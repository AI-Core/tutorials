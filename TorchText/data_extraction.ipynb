{
 "cells": [
  {
   "cell_type": "markdown",
   "metadata": {},
   "source": [
    "## Saving dataset downloaded from web to custom folder\n",
    "Taking the data from `torchtext.data` and converting them into a .csv file, so we can start our model from scratch instead of using directly the torch builtin data in the form they have been provided to us. A .csv is a more standard format we're likely to encounter in real world scenario, therefore this exercise comes in useful, even though, for this purpose, we are using the dataset provided by torch. "
   ]
  },
  {
   "cell_type": "code",
   "execution_count": 1,
   "metadata": {},
   "outputs": [],
   "source": [
    "import torch\n",
    "from torchtext import data\n",
    "#We will work with a dataset from the torchtext package consists of data processing utilities and popular datasets for NLP\n",
    "from torchtext import datasets\n",
    "import pandas as pd\n",
    "import os\n",
    "import numpy as np"
   ]
  },
  {
   "cell_type": "code",
   "execution_count": 2,
   "metadata": {},
   "outputs": [],
   "source": [
    "TEXT = data.Field(sequential=False)  # , tokenize = 'spacy', lower=True)  \n",
    "# setting sequential=False so it doesn't tokenize the text\n",
    "LABEL = data.Field(dtype=torch.long, sequential=False)\n",
    "train_data, valid_data, test_data = datasets.SST.splits(TEXT, LABEL)"
   ]
  },
  {
   "cell_type": "code",
   "execution_count": 3,
   "metadata": {},
   "outputs": [],
   "source": [
    "train_dataset = pd.DataFrame(\n",
    "    {'text': list(train_data.text), 'labels': list(train_data.label)}, columns=['text', 'labels']\n",
    ")\n",
    "valid_dataset = pd.DataFrame(\n",
    "    {'text': list(valid_data.text), 'labels': list(valid_data.label)}, columns=['text', 'labels']\n",
    ")\n",
    "test_dataset = pd.DataFrame(\n",
    "    {'text': list(test_data.text), 'labels': list(test_data.label)}, columns=['text', 'labels']\n",
    ")"
   ]
  },
  {
   "cell_type": "markdown",
   "metadata": {},
   "source": [
    "We are adding another column so that the sentiment (categorical variable) is stored as an integer instead of a string. This will make things easier when training the neural network."
   ]
  },
  {
   "cell_type": "code",
   "execution_count": 4,
   "metadata": {},
   "outputs": [],
   "source": [
    "mapping = {\"negative\": 0, \"neutral\": 1, \"positive\": 2}"
   ]
  },
  {
   "cell_type": "code",
   "execution_count": 5,
   "metadata": {},
   "outputs": [],
   "source": [
    "train_dataset['numerical_labels'] = train_dataset['labels'].apply(lambda x: mapping[x])\n",
    "valid_dataset['numerical_labels'] = valid_dataset['labels'].apply(lambda x: mapping[x])\n",
    "test_dataset['numerical_labels'] = test_dataset['labels'].apply(lambda x: mapping[x])"
   ]
  },
  {
   "cell_type": "code",
   "execution_count": 6,
   "metadata": {},
   "outputs": [],
   "source": [
    "# remember to source the .envrc file in the terminal before launching this notebook to \n",
    "# ensure can use the environment variables correctly.\n",
    "\n",
    "folder = os.path.join(os.getenv('DATA_DIR'), 'movie_review_dataset')\n",
    "train_dataset.to_csv(os.path.join(folder, 'train_dataset.csv'), index=False)\n",
    "valid_dataset.to_csv(os.path.join(folder, 'valid_dataset.csv'), index=False)\n",
    "test_dataset.to_csv(os.path.join(folder, 'test_dataset.csv'), index=False)"
   ]
  }
 ],
 "metadata": {
  "kernelspec": {
   "display_name": "Python 3",
   "language": "python",
   "name": "python3"
  },
  "language_info": {
   "codemirror_mode": {
    "name": "ipython",
    "version": 3
   },
   "file_extension": ".py",
   "mimetype": "text/x-python",
   "name": "python",
   "nbconvert_exporter": "python",
   "pygments_lexer": "ipython3",
   "version": "3.6.4"
  }
 },
 "nbformat": 4,
 "nbformat_minor": 2
}
